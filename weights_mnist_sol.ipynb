{
  "cells": [
    {
      "cell_type": "markdown",
      "source": [
        "# Machine Learning and Data Science (MALDSAC) 2024\n",
        "\n",
        "## Weight Initialisation in Pytorch\n",
        "---------------"
      ],
      "metadata": {
        "id": "Np0VDE3VaLp5"
      }
    },
    {
      "cell_type": "markdown",
      "metadata": {
        "id": "MFS1q3RsuguC"
      },
      "source": [
        "## Import Libraries"
      ]
    },
    {
      "cell_type": "code",
      "execution_count": null,
      "metadata": {
        "id": "PzDPEbj8uguD"
      },
      "outputs": [],
      "source": [
        "import time as time\n",
        "import numpy as np\n",
        "import pandas as pd\n",
        "\n",
        "import matplotlib\n",
        "import matplotlib.pyplot as plt\n",
        "%matplotlib inline"
      ]
    },
    {
      "cell_type": "code",
      "execution_count": null,
      "metadata": {
        "id": "Rf1WDscouguE"
      },
      "outputs": [],
      "source": [
        "import torch as torch\n",
        "import torch.nn.functional as F\n",
        "from torchvision import datasets\n",
        "from torchvision import transforms\n",
        "from torch.utils.data import DataLoader"
      ]
    },
    {
      "cell_type": "markdown",
      "metadata": {
        "id": "-JuRnOiCuguF"
      },
      "source": [
        "## Settings and Dataset"
      ]
    },
    {
      "cell_type": "code",
      "execution_count": null,
      "metadata": {
        "id": "aT7u-BaDuguF"
      },
      "outputs": [],
      "source": [
        "# Global Model Settings\n",
        "random_seed = 1\n",
        "batch_size = 32\n",
        "num_epochs = 5\n",
        "num_epochs_logs = 50\n",
        "device = torch.device('cuda:0' if torch.cuda.is_available() else 'cpu')"
      ]
    },
    {
      "cell_type": "code",
      "execution_count": null,
      "metadata": {
        "id": "6Alo_bQIuguG"
      },
      "outputs": [],
      "source": [
        "# MNIST Dataset\n",
        "# Training Set\n",
        "train_dataset = datasets.MNIST(root='dataset',\n",
        "                               train=True,\n",
        "                               transform=transforms.ToTensor(),\n",
        "                               download=True)\n",
        "\n",
        "train_loader = DataLoader(dataset=train_dataset,\n",
        "                          batch_size=batch_size,\n",
        "                          shuffle=True)"
      ]
    },
    {
      "cell_type": "code",
      "execution_count": null,
      "metadata": {
        "id": "29NtS1V1uguG"
      },
      "outputs": [],
      "source": [
        "# MNIST Dataset\n",
        "# Test Set\n",
        "test_dataset = datasets.MNIST(root='dataset',\n",
        "                              train=False,\n",
        "                              transform=transforms.ToTensor())\n",
        "\n",
        "\n",
        "test_loader = DataLoader(dataset=test_dataset,\n",
        "                         batch_size=batch_size,\n",
        "                         shuffle=False)"
      ]
    },
    {
      "cell_type": "code",
      "execution_count": null,
      "metadata": {
        "id": "cBfCFjZIuguH",
        "outputId": "f9c1ee08-df1d-485b-e1fa-8deece4a7892"
      },
      "outputs": [
        {
          "name": "stdout",
          "output_type": "stream",
          "text": [
            "Image batch dimensions: torch.Size([32, 1, 28, 28])\n",
            "Image label dimensions: torch.Size([32])\n"
          ]
        }
      ],
      "source": [
        "# Checking the dataset's dimensions (batch size)\n",
        "for images, labels in train_loader:\n",
        "    print('Image batch dimensions:', images.shape)\n",
        "    print('Image label dimensions:', labels.shape)\n",
        "    break"
      ]
    },
    {
      "cell_type": "markdown",
      "metadata": {
        "id": "sMICmPY9uguI"
      },
      "source": [
        "## Sigmoid Activation with Sofmax output and Cross Entropy Loss"
      ]
    },
    {
      "cell_type": "code",
      "execution_count": null,
      "metadata": {
        "id": "2RrauD6JuguI"
      },
      "outputs": [],
      "source": [
        "class MultiLayerPerceptron(torch.nn.Module):\n",
        "\n",
        "    def __init__(self, num_features, num_hidden, num_classes):\n",
        "        super(MultiLayerPerceptron, self).__init__()\n",
        "\n",
        "        self.num_classes = num_classes\n",
        "\n",
        "        # Hidden layer configuration\n",
        "        self.fc1 = torch.nn.Linear(num_features, num_hidden) # initialize linear activation for hidden layer\n",
        "        #self.fc1.weight.detach().normal_(0.0, 0.1) # initialize weights from normal distribution [0.0, 0.1]\n",
        "        #self.fc1.bias.detach().zero_() # initialize bias to zero\n",
        "        #torch.nn.init.normal_(self.fc1.weight, mean=0, std=1)\n",
        "        #torch.nn.init.xavier_normal_(self.fc1.weight)\n",
        "        torch.nn.init.kaiming_normal_(self.fc1.weight)\n",
        "\n",
        "        # Non-linear activation function\n",
        "        self.tanh = torch.nn.Tanh()\n",
        "        self.relu = torch.nn.ReLU()\n",
        "\n",
        "        # Output layer configuration\n",
        "        self.fc2 = torch.nn.Linear(num_hidden, num_classes) # initialize linear activation for output layer\n",
        "        #self.fc2.weight.detach().normal_(0.0, 0.1) # initialize weights from normal distribution [0.0, 0.1]\n",
        "        #self.fc2.bias.detach().zero_() # initialize bias to zero\n",
        "        #torch.nn.init.normal_(self.fc2.weight, mean=0, std=1)\n",
        "        #torch.nn.init.xavier_normal_(self.fc2.weight)\n",
        "        torch.nn.init.kaiming_normal_(self.fc2.weight)\n",
        "\n",
        "    def forward(self, x):\n",
        "        out = self.fc1(x) # do forward propagation on x for the first hidden layer and obtain activations.\n",
        "\n",
        "        #out = torch.sigmoid(out) # apply sigmoid function on the preactivations of the first hidden layer (previous output).\n",
        "        #out = self.tanh(out) # apply tanh function on the preactivations of the first hidden layer (previous output).\n",
        "        out = self.relu(out) # apply Relu function on the preactivations of the first hidden layer (previous output).\n",
        "\n",
        "        logits = self.fc2(out) # do forward propagation for the second hidden layer.\n",
        "        probas = torch.softmax(logits, dim=1) # apply softmax functions on logits to obtain predictions.\n",
        "        return logits, probas"
      ]
    },
    {
      "cell_type": "code",
      "execution_count": null,
      "metadata": {
        "id": "2dYmqENxuguJ"
      },
      "outputs": [],
      "source": [
        "# Initialize Model\n",
        "torch.manual_seed(random_seed)\n",
        "model = MultiLayerPerceptron(num_features=28*28,\n",
        "                      num_hidden=100,\n",
        "                      num_classes=10)"
      ]
    },
    {
      "cell_type": "code",
      "execution_count": null,
      "metadata": {
        "id": "G-sHcGGtuguK"
      },
      "outputs": [],
      "source": [
        "# Putting model to device (GPU/CPU)\n",
        "model = model.to(device)"
      ]
    },
    {
      "cell_type": "code",
      "execution_count": null,
      "metadata": {
        "id": "RTCoO4OduguK"
      },
      "outputs": [],
      "source": [
        "# Initilizing SGD optimizer with learning_rate of 0.1\n",
        "optimizer = torch.optim.SGD(model.parameters(), lr=0.1)"
      ]
    },
    {
      "cell_type": "code",
      "execution_count": null,
      "metadata": {
        "id": "c7A-MOa4uguK"
      },
      "outputs": [],
      "source": [
        "def compute_accuracy(model, data_loader):\n",
        "    correct_pred, num_examples = 0, 0\n",
        "    with torch.no_grad():\n",
        "        for features, targets in data_loader:\n",
        "            features = features.view(-1, 28*28).to(device)\n",
        "            targets = targets.to(device)\n",
        "            a1, a2 = model.forward(features)\n",
        "            predicted_labels = torch.argmax(a2, 1)\n",
        "            num_examples += targets.size(0)\n",
        "            correct_pred += (predicted_labels == targets).sum()\n",
        "        return correct_pred.float()/num_examples * 100"
      ]
    },
    {
      "cell_type": "code",
      "execution_count": null,
      "metadata": {
        "id": "VEDtRGuiuguL"
      },
      "outputs": [],
      "source": [
        "# Computing Cross Entropy Loss on minibatches.\n",
        "def compute_error_loss(model, data_loader):\n",
        "    curr_loss = 0.\n",
        "    with torch.no_grad():\n",
        "        for cnt, (features, targets) in enumerate(data_loader): # for each pairs ((x^[i], y^[i]), ..., (x^[i+k], y^[i+k])) in minibatch\n",
        "            features = features.view(-1, 28*28).to(device) # Move features to device and vectorize them\n",
        "            targets = targets.to(device) # Put targets to device\n",
        "            logits, probas = model.forward(features) # Obtain logits and probas from model\n",
        "            loss = F.nll_loss(torch.log(probas), targets)\n",
        "            # loss = F.cross_entropy(logits, targets)\n",
        "            curr_loss += loss # Accumulate current loss\n",
        "        curr_loss = float(curr_loss)/cnt # Normalize loss over total of minibatches\n",
        "        return curr_loss # Return loss"
      ]
    },
    {
      "cell_type": "code",
      "execution_count": null,
      "metadata": {
        "id": "Kw7cHqq6uguL",
        "outputId": "95328971-6d8b-4695-f420-095928b6c725"
      },
      "outputs": [
        {
          "name": "stdout",
          "output_type": "stream",
          "text": [
            "Epoch: 001/005 | Batch 000/1875 | Cost: 2.2970 \n",
            "Epoch: 001/005 | Batch 050/1875 | Cost: 0.6356 \n",
            "Epoch: 001/005 | Batch 100/1875 | Cost: 0.4793 \n",
            "Epoch: 001/005 | Batch 150/1875 | Cost: 0.3613 \n",
            "Epoch: 001/005 | Batch 200/1875 | Cost: 0.4933 \n",
            "Epoch: 001/005 | Batch 250/1875 | Cost: 0.3634 \n",
            "Epoch: 001/005 | Batch 300/1875 | Cost: 0.3677 \n",
            "Epoch: 001/005 | Batch 350/1875 | Cost: 0.3532 \n",
            "Epoch: 001/005 | Batch 400/1875 | Cost: 0.3369 \n",
            "Epoch: 001/005 | Batch 450/1875 | Cost: 0.3307 \n",
            "Epoch: 001/005 | Batch 500/1875 | Cost: 0.2348 \n",
            "Epoch: 001/005 | Batch 550/1875 | Cost: 0.2138 \n",
            "Epoch: 001/005 | Batch 600/1875 | Cost: 0.2831 \n",
            "Epoch: 001/005 | Batch 650/1875 | Cost: 0.2371 \n",
            "Epoch: 001/005 | Batch 700/1875 | Cost: 0.2133 \n",
            "Epoch: 001/005 | Batch 750/1875 | Cost: 0.3406 \n",
            "Epoch: 001/005 | Batch 800/1875 | Cost: 0.3054 \n",
            "Epoch: 001/005 | Batch 850/1875 | Cost: 0.3023 \n",
            "Epoch: 001/005 | Batch 900/1875 | Cost: 0.3680 \n",
            "Epoch: 001/005 | Batch 950/1875 | Cost: 0.2962 \n",
            "Epoch: 001/005 | Batch 1000/1875 | Cost: 0.2320 \n",
            "Epoch: 001/005 | Batch 1050/1875 | Cost: 0.0755 \n",
            "Epoch: 001/005 | Batch 1100/1875 | Cost: 0.2012 \n",
            "Epoch: 001/005 | Batch 1150/1875 | Cost: 0.2647 \n",
            "Epoch: 001/005 | Batch 1200/1875 | Cost: 0.0394 \n",
            "Epoch: 001/005 | Batch 1250/1875 | Cost: 0.1252 \n",
            "Epoch: 001/005 | Batch 1300/1875 | Cost: 0.0881 \n",
            "Epoch: 001/005 | Batch 1350/1875 | Cost: 0.2410 \n",
            "Epoch: 001/005 | Batch 1400/1875 | Cost: 0.1259 \n",
            "Epoch: 001/005 | Batch 1450/1875 | Cost: 0.1630 \n",
            "Epoch: 001/005 | Batch 1500/1875 | Cost: 0.1170 \n",
            "Epoch: 001/005 | Batch 1550/1875 | Cost: 0.2346 \n",
            "Epoch: 001/005 | Batch 1600/1875 | Cost: 0.3531 \n",
            "Epoch: 001/005 | Batch 1650/1875 | Cost: 0.3587 \n",
            "Epoch: 001/005 | Batch 1700/1875 | Cost: 0.1679 \n",
            "Epoch: 001/005 | Batch 1750/1875 | Cost: 0.1018 \n",
            "Epoch: 001/005 | Batch 1800/1875 | Cost: 0.2887 \n",
            "Epoch: 001/005 | Batch 1850/1875 | Cost: 0.2723 \n",
            "Epoch: 001/005 | Train Cost: 0.1735 | Accuracy: 95.0100%\n",
            "Time elapsed: 0.34 min\n",
            "Epoch: 002/005 | Batch 000/1875 | Cost: 0.2069 \n",
            "Epoch: 002/005 | Batch 050/1875 | Cost: 0.2296 \n",
            "Epoch: 002/005 | Batch 100/1875 | Cost: 0.3218 \n",
            "Epoch: 002/005 | Batch 150/1875 | Cost: 0.1325 \n",
            "Epoch: 002/005 | Batch 200/1875 | Cost: 0.1030 \n",
            "Epoch: 002/005 | Batch 250/1875 | Cost: 0.1109 \n",
            "Epoch: 002/005 | Batch 300/1875 | Cost: 0.4104 \n",
            "Epoch: 002/005 | Batch 350/1875 | Cost: 0.2931 \n",
            "Epoch: 002/005 | Batch 400/1875 | Cost: 0.1840 \n",
            "Epoch: 002/005 | Batch 450/1875 | Cost: 0.3195 \n",
            "Epoch: 002/005 | Batch 500/1875 | Cost: 0.4330 \n",
            "Epoch: 002/005 | Batch 550/1875 | Cost: 0.1626 \n",
            "Epoch: 002/005 | Batch 600/1875 | Cost: 0.2326 \n",
            "Epoch: 002/005 | Batch 650/1875 | Cost: 0.0383 \n",
            "Epoch: 002/005 | Batch 700/1875 | Cost: 0.1110 \n",
            "Epoch: 002/005 | Batch 750/1875 | Cost: 0.0537 \n",
            "Epoch: 002/005 | Batch 800/1875 | Cost: 0.3327 \n",
            "Epoch: 002/005 | Batch 850/1875 | Cost: 0.3401 \n",
            "Epoch: 002/005 | Batch 900/1875 | Cost: 0.2256 \n",
            "Epoch: 002/005 | Batch 950/1875 | Cost: 0.0836 \n",
            "Epoch: 002/005 | Batch 1000/1875 | Cost: 0.2774 \n",
            "Epoch: 002/005 | Batch 1050/1875 | Cost: 0.0213 \n",
            "Epoch: 002/005 | Batch 1100/1875 | Cost: 0.1159 \n",
            "Epoch: 002/005 | Batch 1150/1875 | Cost: 0.1335 \n",
            "Epoch: 002/005 | Batch 1200/1875 | Cost: 0.0324 \n",
            "Epoch: 002/005 | Batch 1250/1875 | Cost: 0.2359 \n",
            "Epoch: 002/005 | Batch 1300/1875 | Cost: 0.0464 \n",
            "Epoch: 002/005 | Batch 1350/1875 | Cost: 0.0943 \n",
            "Epoch: 002/005 | Batch 1400/1875 | Cost: 0.0471 \n",
            "Epoch: 002/005 | Batch 1450/1875 | Cost: 0.1251 \n",
            "Epoch: 002/005 | Batch 1500/1875 | Cost: 0.0276 \n",
            "Epoch: 002/005 | Batch 1550/1875 | Cost: 0.0648 \n",
            "Epoch: 002/005 | Batch 1600/1875 | Cost: 0.0460 \n",
            "Epoch: 002/005 | Batch 1650/1875 | Cost: 0.1186 \n",
            "Epoch: 002/005 | Batch 1700/1875 | Cost: 0.0431 \n",
            "Epoch: 002/005 | Batch 1750/1875 | Cost: 0.0732 \n",
            "Epoch: 002/005 | Batch 1800/1875 | Cost: 0.2305 \n",
            "Epoch: 002/005 | Batch 1850/1875 | Cost: 0.0329 \n",
            "Epoch: 002/005 | Train Cost: 0.1143 | Accuracy: 96.7450%\n",
            "Time elapsed: 0.67 min\n",
            "Epoch: 003/005 | Batch 000/1875 | Cost: 0.0962 \n",
            "Epoch: 003/005 | Batch 050/1875 | Cost: 0.0945 \n",
            "Epoch: 003/005 | Batch 100/1875 | Cost: 0.1369 \n",
            "Epoch: 003/005 | Batch 150/1875 | Cost: 0.2488 \n",
            "Epoch: 003/005 | Batch 200/1875 | Cost: 0.0582 \n",
            "Epoch: 003/005 | Batch 250/1875 | Cost: 0.0173 \n",
            "Epoch: 003/005 | Batch 300/1875 | Cost: 0.0360 \n",
            "Epoch: 003/005 | Batch 350/1875 | Cost: 0.1634 \n",
            "Epoch: 003/005 | Batch 400/1875 | Cost: 0.0567 \n",
            "Epoch: 003/005 | Batch 450/1875 | Cost: 0.0273 \n",
            "Epoch: 003/005 | Batch 500/1875 | Cost: 0.1177 \n",
            "Epoch: 003/005 | Batch 550/1875 | Cost: 0.0668 \n",
            "Epoch: 003/005 | Batch 600/1875 | Cost: 0.0404 \n",
            "Epoch: 003/005 | Batch 650/1875 | Cost: 0.0274 \n",
            "Epoch: 003/005 | Batch 700/1875 | Cost: 0.0204 \n",
            "Epoch: 003/005 | Batch 750/1875 | Cost: 0.1287 \n",
            "Epoch: 003/005 | Batch 800/1875 | Cost: 0.0408 \n",
            "Epoch: 003/005 | Batch 850/1875 | Cost: 0.1222 \n",
            "Epoch: 003/005 | Batch 900/1875 | Cost: 0.0820 \n",
            "Epoch: 003/005 | Batch 950/1875 | Cost: 0.2121 \n",
            "Epoch: 003/005 | Batch 1000/1875 | Cost: 0.0319 \n",
            "Epoch: 003/005 | Batch 1050/1875 | Cost: 0.1606 \n",
            "Epoch: 003/005 | Batch 1100/1875 | Cost: 0.2673 \n",
            "Epoch: 003/005 | Batch 1150/1875 | Cost: 0.1251 \n",
            "Epoch: 003/005 | Batch 1200/1875 | Cost: 0.1580 \n",
            "Epoch: 003/005 | Batch 1250/1875 | Cost: 0.0780 \n",
            "Epoch: 003/005 | Batch 1300/1875 | Cost: 0.0726 \n",
            "Epoch: 003/005 | Batch 1350/1875 | Cost: 0.4144 \n",
            "Epoch: 003/005 | Batch 1400/1875 | Cost: 0.0121 \n",
            "Epoch: 003/005 | Batch 1450/1875 | Cost: 0.0302 \n",
            "Epoch: 003/005 | Batch 1500/1875 | Cost: 0.0146 \n",
            "Epoch: 003/005 | Batch 1550/1875 | Cost: 0.0925 \n",
            "Epoch: 003/005 | Batch 1600/1875 | Cost: 0.0671 \n",
            "Epoch: 003/005 | Batch 1650/1875 | Cost: 0.1316 \n",
            "Epoch: 003/005 | Batch 1700/1875 | Cost: 0.0503 \n",
            "Epoch: 003/005 | Batch 1750/1875 | Cost: 0.0278 \n",
            "Epoch: 003/005 | Batch 1800/1875 | Cost: 0.1030 \n",
            "Epoch: 003/005 | Batch 1850/1875 | Cost: 0.1729 \n",
            "Epoch: 003/005 | Train Cost: 0.0866 | Accuracy: 97.5033%\n",
            "Time elapsed: 1.04 min\n",
            "Epoch: 004/005 | Batch 000/1875 | Cost: 0.0322 \n",
            "Epoch: 004/005 | Batch 050/1875 | Cost: 0.0570 \n",
            "Epoch: 004/005 | Batch 100/1875 | Cost: 0.0812 \n",
            "Epoch: 004/005 | Batch 150/1875 | Cost: 0.0528 \n",
            "Epoch: 004/005 | Batch 200/1875 | Cost: 0.1066 \n",
            "Epoch: 004/005 | Batch 250/1875 | Cost: 0.1126 \n",
            "Epoch: 004/005 | Batch 300/1875 | Cost: 0.0294 \n",
            "Epoch: 004/005 | Batch 350/1875 | Cost: 0.1006 \n",
            "Epoch: 004/005 | Batch 400/1875 | Cost: 0.2653 \n",
            "Epoch: 004/005 | Batch 450/1875 | Cost: 0.0579 \n",
            "Epoch: 004/005 | Batch 500/1875 | Cost: 0.0250 \n",
            "Epoch: 004/005 | Batch 550/1875 | Cost: 0.0278 \n",
            "Epoch: 004/005 | Batch 600/1875 | Cost: 0.1713 \n",
            "Epoch: 004/005 | Batch 650/1875 | Cost: 0.0111 \n",
            "Epoch: 004/005 | Batch 700/1875 | Cost: 0.0387 \n",
            "Epoch: 004/005 | Batch 750/1875 | Cost: 0.0247 \n",
            "Epoch: 004/005 | Batch 800/1875 | Cost: 0.1348 \n",
            "Epoch: 004/005 | Batch 850/1875 | Cost: 0.0371 \n",
            "Epoch: 004/005 | Batch 900/1875 | Cost: 0.0324 \n",
            "Epoch: 004/005 | Batch 950/1875 | Cost: 0.0824 \n",
            "Epoch: 004/005 | Batch 1000/1875 | Cost: 0.0686 \n",
            "Epoch: 004/005 | Batch 1050/1875 | Cost: 0.0642 \n",
            "Epoch: 004/005 | Batch 1100/1875 | Cost: 0.1676 \n",
            "Epoch: 004/005 | Batch 1150/1875 | Cost: 0.0090 \n",
            "Epoch: 004/005 | Batch 1200/1875 | Cost: 0.0649 \n",
            "Epoch: 004/005 | Batch 1250/1875 | Cost: 0.0094 \n",
            "Epoch: 004/005 | Batch 1300/1875 | Cost: 0.0228 \n",
            "Epoch: 004/005 | Batch 1350/1875 | Cost: 0.1175 \n",
            "Epoch: 004/005 | Batch 1400/1875 | Cost: 0.1464 \n",
            "Epoch: 004/005 | Batch 1450/1875 | Cost: 0.2341 \n",
            "Epoch: 004/005 | Batch 1500/1875 | Cost: 0.1151 \n",
            "Epoch: 004/005 | Batch 1550/1875 | Cost: 0.0256 \n",
            "Epoch: 004/005 | Batch 1600/1875 | Cost: 0.0918 \n",
            "Epoch: 004/005 | Batch 1650/1875 | Cost: 0.0149 \n",
            "Epoch: 004/005 | Batch 1700/1875 | Cost: 0.0802 \n",
            "Epoch: 004/005 | Batch 1750/1875 | Cost: 0.0707 \n",
            "Epoch: 004/005 | Batch 1800/1875 | Cost: 0.1776 \n",
            "Epoch: 004/005 | Batch 1850/1875 | Cost: 0.0076 \n",
            "Epoch: 004/005 | Train Cost: 0.0739 | Accuracy: 97.9217%\n",
            "Time elapsed: 1.39 min\n",
            "Epoch: 005/005 | Batch 000/1875 | Cost: 0.0219 \n",
            "Epoch: 005/005 | Batch 050/1875 | Cost: 0.0965 \n",
            "Epoch: 005/005 | Batch 100/1875 | Cost: 0.0306 \n",
            "Epoch: 005/005 | Batch 150/1875 | Cost: 0.0229 \n",
            "Epoch: 005/005 | Batch 200/1875 | Cost: 0.0374 \n",
            "Epoch: 005/005 | Batch 250/1875 | Cost: 0.1147 \n",
            "Epoch: 005/005 | Batch 300/1875 | Cost: 0.0678 \n",
            "Epoch: 005/005 | Batch 350/1875 | Cost: 0.1470 \n",
            "Epoch: 005/005 | Batch 400/1875 | Cost: 0.0687 \n",
            "Epoch: 005/005 | Batch 450/1875 | Cost: 0.1016 \n",
            "Epoch: 005/005 | Batch 500/1875 | Cost: 0.1956 \n"
          ]
        },
        {
          "name": "stdout",
          "output_type": "stream",
          "text": [
            "Epoch: 005/005 | Batch 550/1875 | Cost: 0.0357 \n",
            "Epoch: 005/005 | Batch 600/1875 | Cost: 0.1659 \n",
            "Epoch: 005/005 | Batch 650/1875 | Cost: 0.0382 \n",
            "Epoch: 005/005 | Batch 700/1875 | Cost: 0.0292 \n",
            "Epoch: 005/005 | Batch 750/1875 | Cost: 0.0408 \n",
            "Epoch: 005/005 | Batch 800/1875 | Cost: 0.0541 \n",
            "Epoch: 005/005 | Batch 850/1875 | Cost: 0.1736 \n",
            "Epoch: 005/005 | Batch 900/1875 | Cost: 0.0502 \n",
            "Epoch: 005/005 | Batch 950/1875 | Cost: 0.0554 \n",
            "Epoch: 005/005 | Batch 1000/1875 | Cost: 0.0698 \n",
            "Epoch: 005/005 | Batch 1050/1875 | Cost: 0.0283 \n",
            "Epoch: 005/005 | Batch 1100/1875 | Cost: 0.1046 \n",
            "Epoch: 005/005 | Batch 1150/1875 | Cost: 0.0656 \n",
            "Epoch: 005/005 | Batch 1200/1875 | Cost: 0.0062 \n",
            "Epoch: 005/005 | Batch 1250/1875 | Cost: 0.0173 \n",
            "Epoch: 005/005 | Batch 1300/1875 | Cost: 0.0366 \n",
            "Epoch: 005/005 | Batch 1350/1875 | Cost: 0.0175 \n",
            "Epoch: 005/005 | Batch 1400/1875 | Cost: 0.0971 \n",
            "Epoch: 005/005 | Batch 1450/1875 | Cost: 0.0515 \n",
            "Epoch: 005/005 | Batch 1500/1875 | Cost: 0.0603 \n",
            "Epoch: 005/005 | Batch 1550/1875 | Cost: 0.0346 \n",
            "Epoch: 005/005 | Batch 1600/1875 | Cost: 0.0796 \n",
            "Epoch: 005/005 | Batch 1650/1875 | Cost: 0.0251 \n",
            "Epoch: 005/005 | Batch 1700/1875 | Cost: 0.0522 \n",
            "Epoch: 005/005 | Batch 1750/1875 | Cost: 0.0035 \n",
            "Epoch: 005/005 | Batch 1800/1875 | Cost: 0.0746 \n",
            "Epoch: 005/005 | Batch 1850/1875 | Cost: 0.0048 \n",
            "Epoch: 005/005 | Train Cost: 0.0577 | Accuracy: 98.3150%\n",
            "Time elapsed: 1.74 min\n",
            "Total Training Time: 1.74 min\n"
          ]
        }
      ],
      "source": [
        "# Doing Stochastic Gradient Descent on minibatches\n",
        "start_time = time.time()\n",
        "minibatch_cost = []\n",
        "epoch_cost = []\n",
        "\n",
        "for epoch in range(num_epochs):\n",
        "\n",
        "    # Setting model in training modus\n",
        "    model.train()\n",
        "\n",
        "    # Iterating over dataset\n",
        "    for batch_idx, (features, targets) in enumerate(train_loader):\n",
        "\n",
        "        # Putting data (feats, targets) into device\n",
        "        features = features.view(-1, 28*28).to(device)\n",
        "        targets = targets.to(device)\n",
        "\n",
        "        # Forward Propagation\n",
        "        logits, probas = model(features)\n",
        "\n",
        "        cost = F.nll_loss(torch.log(probas), targets)\n",
        "\n",
        "        # Clear accumulated gradients from previous epochs\n",
        "        optimizer.zero_grad()\n",
        "\n",
        "        # Backward propagation\n",
        "        cost.backward()\n",
        "\n",
        "        # Add minibatch cost\n",
        "        minibatch_cost.append(cost)\n",
        "\n",
        "        # Update model parameters\n",
        "        optimizer.step()\n",
        "\n",
        "        # History\n",
        "        if not batch_idx % num_epochs_logs:\n",
        "            print ('Epoch: %03d/%03d | Batch %03d/%03d | Cost: %.4f '\n",
        "                   %(epoch+1, num_epochs, batch_idx,\n",
        "                     len(train_loader), cost))\n",
        "\n",
        "    cost = compute_error_loss(model, train_loader)\n",
        "    epoch_cost.append(cost)\n",
        "    print('Epoch: %03d/%03d | Train Cost: %.4f | Accuracy: %.4f%%' % (\n",
        "            epoch+1, num_epochs, cost,\n",
        "            compute_accuracy(model, train_loader)))\n",
        "    print('Time elapsed: %.2f min' % ((time.time() - start_time)/60))\n",
        "\n",
        "print('Total Training Time: %.2f min' % ((time.time() - start_time)/60))"
      ]
    },
    {
      "cell_type": "code",
      "execution_count": null,
      "metadata": {
        "id": "R_Ij1k6XuguM",
        "outputId": "5c7aba69-2bd2-4444-bcd6-8fe278ff6c5c"
      },
      "outputs": [
        {
          "data": {
            "image/png": "[encoded data removed]",
            "text/plain": [
              "<Figure size 432x288 with 1 Axes>"
            ]
          },
          "metadata": {
            "needs_background": "light"
          },
          "output_type": "display_data"
        }
      ],
      "source": [
        "# Plot minitbatch cost\n",
        "plt.plot(range(len(minibatch_cost)), minibatch_cost)\n",
        "plt.ylabel('Cross Entropy')\n",
        "plt.xlabel('Minibatch')\n",
        "plt.show()"
      ]
    },
    {
      "cell_type": "code",
      "execution_count": null,
      "metadata": {
        "id": "cwkzoaMjuguM",
        "outputId": "6bee5ef2-634a-4ad4-e22f-faa8c97b8c9d"
      },
      "outputs": [
        {
          "data": {
            "image/png": "[encoded data removed]",
            "text/plain": [
              "<Figure size 432x288 with 1 Axes>"
            ]
          },
          "metadata": {
            "needs_background": "light"
          },
          "output_type": "display_data"
        }
      ],
      "source": [
        "# Plot epoch cost\n",
        "plt.plot(range(len(epoch_cost)), epoch_cost)\n",
        "plt.ylabel('Cross Entropy')\n",
        "plt.xlabel('Epoch')\n",
        "plt.show()"
      ]
    },
    {
      "cell_type": "code",
      "execution_count": null,
      "metadata": {
        "id": "GAJeQ4ecuguN",
        "outputId": "a7f1c168-37fc-4a3d-b120-8a15e1820d99"
      },
      "outputs": [
        {
          "name": "stdout",
          "output_type": "stream",
          "text": [
            "Training Accuracy: 98.32\n",
            "Test Accuracy: 97.39\n"
          ]
        }
      ],
      "source": [
        "print('Training Accuracy: %.2f' % compute_accuracy(model, train_loader))\n",
        "print('Test Accuracy: %.2f' % compute_accuracy(model, test_loader))"
      ]
    }
  ],
  "metadata": {
    "kernelspec": {
      "display_name": "Python 3",
      "language": "python",
      "name": "python3"
    },
    "language_info": {
      "codemirror_mode": {
        "name": "ipython",
        "version": 3
      },
      "file_extension": ".py",
      "mimetype": "text/x-python",
      "name": "python",
      "nbconvert_exporter": "python",
      "pygments_lexer": "ipython3",
      "version": "3.6.7"
    },
    "toc": {
      "nav_menu": {},
      "number_sections": true,
      "sideBar": true,
      "skip_h1_title": false,
      "title_cell": "Table of Contents",
      "title_sidebar": "Contents",
      "toc_cell": false,
      "toc_position": {},
      "toc_section_display": true,
      "toc_window_display": false
    },
    "colab": {
      "provenance": []
    }
  },
  "nbformat": 4,
  "nbformat_minor": 0
}